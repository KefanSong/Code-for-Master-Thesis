{
 "cells": [
  {
   "cell_type": "code",
   "execution_count": 6,
   "id": "24fe6900-ddbc-460b-be65-7551e06c85a1",
   "metadata": {},
   "outputs": [],
   "source": [
    "import pickle\n",
    "import matplotlib.pyplot as plt\n",
    "import pandas as pd\n",
    "import numpy as np\n",
    "import io\n",
    "import torch\n",
    "from big_foot_half_cheetah_v4 import BigFootHalfCheetahEnv"
   ]
  },
  {
   "cell_type": "code",
   "execution_count": 7,
   "id": "8750d831-548f-4b05-bfba-8b5282f48b7a",
   "metadata": {},
   "outputs": [
    {
     "name": "stdout",
     "output_type": "stream",
     "text": [
      "0\n"
     ]
    }
   ],
   "source": [
    "for z in range(1):\n",
    "    print(z)"
   ]
  },
  {
   "cell_type": "code",
   "execution_count": 9,
   "id": "04144b2a-70e4-428d-b719-38de2061e536",
   "metadata": {},
   "outputs": [
    {
     "data": {
      "text/plain": [
       "array([[1., 1., 1., 1.]])"
      ]
     },
     "execution_count": 9,
     "metadata": {},
     "output_type": "execute_result"
    }
   ],
   "source": [
    "np.ones((2 - 1, 4)) "
   ]
  },
  {
   "cell_type": "code",
   "execution_count": 12,
   "id": "2e8ede59-639e-4253-80c0-878db4e08060",
   "metadata": {},
   "outputs": [],
   "source": [
    "from utils import *"
   ]
  },
  {
   "cell_type": "code",
   "execution_count": 46,
   "id": "88e45fd7-23bb-4c27-a578-5fcdb56dbb59",
   "metadata": {},
   "outputs": [],
   "source": [
    "with open('obs.pkl', 'rb') as f:\n",
    "    obs = pickle.load(f)"
   ]
  },
  {
   "cell_type": "code",
   "execution_count": 109,
   "id": "e4622c42-adf6-4ac3-81ba-9a8b10465694",
   "metadata": {},
   "outputs": [],
   "source": [
    "with open('reward_list.pkl', 'rb') as f:\n",
    "    reward_list = pickle.load(f)"
   ]
  },
  {
   "cell_type": "code",
   "execution_count": 194,
   "id": "8516bed7-f46b-43f4-98e0-4422911051bc",
   "metadata": {},
   "outputs": [],
   "source": [
    "with open('adv_eps_list.pkl', 'rb') as f:\n",
    "    adv_eps_list = pickle.load(f)"
   ]
  },
  {
   "cell_type": "code",
   "execution_count": 197,
   "id": "453f8a6e-f96f-4588-9cde-abcd2185807a",
   "metadata": {},
   "outputs": [],
   "source": [
    "with open('info.pkl', 'rb') as f:\n",
    "    info = pickle.load(f)"
   ]
  },
  {
   "cell_type": "code",
   "execution_count": 198,
   "id": "fc6aa28d-876d-497b-bfbf-439f2aad9fe3",
   "metadata": {},
   "outputs": [
    {
     "data": {
      "text/plain": [
       "{'x_position': -0.43524998572451595,\n",
       " 'x_velocity': -1.7062958767309044,\n",
       " 'reward_run': -1.7062958767309044,\n",
       " 'reward_ctrl': -0.11704972982406617}"
      ]
     },
     "execution_count": 198,
     "metadata": {},
     "output_type": "execute_result"
    }
   ],
   "source": [
    "info['x_velocity']"
   ]
  },
  {
   "cell_type": "code",
   "execution_count": 195,
   "id": "812f2516-2658-4f24-abd1-8a9a6384bcd7",
   "metadata": {},
   "outputs": [],
   "source": [
    "# adv_eps_list_prev = adv_eps_list.copy()"
   ]
  },
  {
   "cell_type": "code",
   "execution_count": 196,
   "id": "6a3e55c3-aae0-4e1e-9373-8cefe8045574",
   "metadata": {},
   "outputs": [
    {
     "data": {
      "text/plain": [
       "[array([[14.23849777],\n",
       "        [ 1.85922431],\n",
       "        [ 1.63042905],\n",
       "        [ 1.7682786 ],\n",
       "        [ 2.74235387],\n",
       "        [ 3.24359269],\n",
       "        [-0.34988065],\n",
       "        [-2.07593587],\n",
       "        [-2.19927542],\n",
       "        [-1.53375945],\n",
       "        [-0.77032438],\n",
       "        [-1.3022495 ],\n",
       "        [-2.3535404 ],\n",
       "        [-3.16762421],\n",
       "        [-4.68056571],\n",
       "        [-5.26972399],\n",
       "        [-3.75226681],\n",
       "        [-3.53331224],\n",
       "        [-3.70983974],\n",
       "        [-2.13870152],\n",
       "        [ 0.34608457],\n",
       "        [ 0.68252576],\n",
       "        [-0.23120201],\n",
       "        [-0.63137746]]),\n",
       " array([[14.23849777],\n",
       "        [ 1.85922431],\n",
       "        [ 1.63042905],\n",
       "        [ 1.7682786 ],\n",
       "        [ 2.74235387],\n",
       "        [ 3.24359269],\n",
       "        [-0.34988065],\n",
       "        [-2.07593587],\n",
       "        [-2.19927542],\n",
       "        [-1.53375945],\n",
       "        [-0.77032438],\n",
       "        [-1.3022495 ],\n",
       "        [-2.3535404 ],\n",
       "        [-3.16762421],\n",
       "        [-4.68056571],\n",
       "        [-5.26972399],\n",
       "        [-3.75226681],\n",
       "        [-3.53331224],\n",
       "        [-3.70983974],\n",
       "        [-2.13870152],\n",
       "        [ 0.34608457],\n",
       "        [ 0.68252576],\n",
       "        [-0.23120201],\n",
       "        [-0.63137746]])]"
      ]
     },
     "execution_count": 196,
     "metadata": {},
     "output_type": "execute_result"
    }
   ],
   "source": [
    "adv_eps_list"
   ]
  },
  {
   "cell_type": "code",
   "execution_count": 172,
   "id": "a7bb5df7-2d1d-4a78-8c1b-d827a6059e25",
   "metadata": {},
   "outputs": [],
   "source": [
    "# rew_eps_prev = rew_eps.copy()"
   ]
  },
  {
   "cell_type": "code",
   "execution_count": 176,
   "id": "065736f1-4a2c-44be-9f01-8bb755876d95",
   "metadata": {},
   "outputs": [],
   "source": [
    "# rew_eps_prev[1]"
   ]
  },
  {
   "cell_type": "code",
   "execution_count": 183,
   "id": "baefc195-2db2-48f9-b13c-64d64041447c",
   "metadata": {},
   "outputs": [
    {
     "data": {
      "text/plain": [
       "array([[-0.14283706],\n",
       "       [ 0.74263555],\n",
       "       [ 0.45574352],\n",
       "       [ 0.20217942],\n",
       "       [ 0.34172165],\n",
       "       [ 0.46025807],\n",
       "       [ 0.47438434],\n",
       "       [ 0.7023341 ],\n",
       "       [ 0.3023442 ],\n",
       "       [-0.44674942],\n",
       "       [-0.7890172 ],\n",
       "       [ 0.0503818 ],\n",
       "       [-0.4280066 ],\n",
       "       [ 0.28189284],\n",
       "       [ 0.68367136],\n",
       "       [-0.48194784],\n",
       "       [-0.602141  ],\n",
       "       [ 0.73051596],\n",
       "       [ 1.3887045 ],\n",
       "       [ 0.6397053 ],\n",
       "       [-0.75506127],\n",
       "       [ 0.1891128 ],\n",
       "       [ 0.8338393 ],\n",
       "       [ 1.4424367 ]], dtype=float32)"
      ]
     },
     "execution_count": 183,
     "metadata": {},
     "output_type": "execute_result"
    }
   ],
   "source": [
    "rew_eps[1]"
   ]
  },
  {
   "cell_type": "code",
   "execution_count": null,
   "id": "1a40f585-af79-4bb3-8e28-65de93b62e3b",
   "metadata": {},
   "outputs": [],
   "source": []
  },
  {
   "cell_type": "code",
   "execution_count": null,
   "id": "41d291be-2a1a-4587-b46c-58b161e4183c",
   "metadata": {},
   "outputs": [],
   "source": []
  },
  {
   "cell_type": "code",
   "execution_count": 166,
   "id": "ab4f4b18-9a8a-492c-b316-7021fd889284",
   "metadata": {},
   "outputs": [
    {
     "data": {
      "text/plain": [
       "-0.20217850082409472"
      ]
     },
     "execution_count": 166,
     "metadata": {},
     "output_type": "execute_result"
    }
   ],
   "source": [
    "np.mean(reward_list)"
   ]
  },
  {
   "cell_type": "code",
   "execution_count": 167,
   "id": "3df2a0e9-6ed0-47c9-bfa5-be6100cfda6e",
   "metadata": {},
   "outputs": [
    {
     "data": {
      "text/plain": [
       "(array([-0.04604266, -0.0918053 , -0.09669447,  0.06265405,  0.08255112,\n",
       "         0.02132716,  0.04589931,  0.008725  , -0.12654215, -0.06232745,\n",
       "         0.0041326 , -0.23250308, -0.02187917, -0.12459109, -0.07322674,\n",
       "        -0.0544259 , -0.03163002]),\n",
       " {})"
      ]
     },
     "execution_count": 167,
     "metadata": {},
     "output_type": "execute_result"
    }
   ],
   "source": [
    "env = BigFootHalfCheetahEnv()\n",
    "envname = 'BigFootHalfCheetah'\n",
    "env.reset(seed=0)"
   ]
  },
  {
   "cell_type": "code",
   "execution_count": 152,
   "id": "a49e9a17-c109-4dcb-b621-650906389d48",
   "metadata": {},
   "outputs": [],
   "source": [
    "rew_list = []\n",
    "for _ in range(1000):\n",
    "    act = np.random.rand(6)\n",
    "    _, rew, _, _, _ = env.step(act)\n",
    "    rew_list.append(rew)"
   ]
  },
  {
   "cell_type": "code",
   "execution_count": 157,
   "id": "33690ad6-f5b0-4c62-ae6a-b5587f31ac18",
   "metadata": {},
   "outputs": [
    {
     "data": {
      "text/plain": [
       "-148.66471889888047"
      ]
     },
     "execution_count": 157,
     "metadata": {},
     "output_type": "execute_result"
    }
   ],
   "source": [
    "np.sum(rew_list)"
   ]
  },
  {
   "cell_type": "markdown",
   "id": "2facc67b-3a3b-4432-bb4e-b76adab6dac8",
   "metadata": {},
   "source": [
    "# Two tasks: Running forward and running backward"
   ]
  },
  {
   "cell_type": "code",
   "execution_count": 30,
   "id": "0ca6fd6d-3846-4a22-9792-8b9191d2f70e",
   "metadata": {},
   "outputs": [],
   "source": [
    "with open('focops_results/focops_group fairness_0_HalfCheetah-v4_log_data_seed_1_forward_backward.pkl', 'rb') as f:\n",
    "    log = pickle.load(f)"
   ]
  },
  {
   "cell_type": "code",
   "execution_count": 31,
   "id": "3e943cbf-5ca4-443f-bd0e-8248c1195fd4",
   "metadata": {},
   "outputs": [
    {
     "data": {
      "text/plain": [
       "[<matplotlib.lines.Line2D at 0x1405a6640>]"
      ]
     },
     "execution_count": 31,
     "metadata": {},
     "output_type": "execute_result"
    },
    {
     "data": {
      "image/png": "[encoded data removed]",
      "text/plain": [
       "<Figure size 640x480 with 1 Axes>"
      ]
     },
     "metadata": {},
     "output_type": "display_data"
    }
   ],
   "source": [
    "plt.plot(log['AvgR2'])\n",
    "plt.plot(log['AvgR'])\n"
   ]
  },
  {
   "cell_type": "code",
   "execution_count": 32,
   "id": "86c8ee3b-2af6-4065-96b7-64ad19ae3892",
   "metadata": {},
   "outputs": [],
   "source": [
    "with open('focops_results/focops_group fairness_1_BigFootHalfCheetah_log_data_seed_1_forward_backward.pkl', 'rb') as f:\n",
    "    log = pickle.load(f)"
   ]
  },
  {
   "cell_type": "code",
   "execution_count": 33,
   "id": "aab30f82-ec1c-4048-a0f7-8802d8e3f572",
   "metadata": {
    "scrolled": true
   },
   "outputs": [
    {
     "data": {
      "text/plain": [
       "[<matplotlib.lines.Line2D at 0x1405b60a0>]"
      ]
     },
     "execution_count": 33,
     "metadata": {},
     "output_type": "execute_result"
    },
    {
     "data": {
      "image/png": "[encoded data removed]",
      "text/plain": [
       "<Figure size 640x480 with 1 Axes>"
      ]
     },
     "metadata": {},
     "output_type": "display_data"
    }
   ],
   "source": [
    "plt.plot(log['AvgR2'])\n",
    "plt.plot(log['AvgR'])\n"
   ]
  },
  {
   "cell_type": "code",
   "execution_count": 34,
   "id": "1e222114-ac88-40da-9d62-7766bb7f5d3f",
   "metadata": {},
   "outputs": [],
   "source": [
    "a = np.array([0, 1])"
   ]
  },
  {
   "cell_type": "code",
   "execution_count": 35,
   "id": "5c99fc2e-02de-434a-a0b3-e7177e161d36",
   "metadata": {},
   "outputs": [
    {
     "data": {
      "text/plain": [
       "array([0, 1, 2, 3])"
      ]
     },
     "execution_count": 35,
     "metadata": {},
     "output_type": "execute_result"
    }
   ],
   "source": [
    "np.append(a, [2, 3])"
   ]
  },
  {
   "cell_type": "code",
   "execution_count": 23,
   "id": "5e0394d7-2c98-44dc-8a28-c1b8d751a9e7",
   "metadata": {},
   "outputs": [
    {
     "data": {
      "text/plain": [
       "array([-0.05507178,  0.06277031,  0.02867111, -0.14314419, -0.07467676,\n",
       "        0.07000125,  0.09656003, -0.01312643, -0.0342421 , -0.33701874,\n",
       "        0.28565825,  1.40683975, -3.1637649 , -3.99290299, -0.62630027,\n",
       "        1.22017811, -0.59543599,  1.        ])"
      ]
     },
     "execution_count": 23,
     "metadata": {},
     "output_type": "execute_result"
    }
   ],
   "source": [
    "running_stat.normalize(obs)"
   ]
  },
  {
   "cell_type": "code",
   "execution_count": 7,
   "id": "b3213ef8-d596-43c6-bf94-5898bf22a7fc",
   "metadata": {},
   "outputs": [
    {
     "name": "stdout",
     "output_type": "stream",
     "text": [
      "0\n",
      "1\n"
     ]
    }
   ],
   "source": [
    "for i in range(2):\n",
    "    print(i)"
   ]
  },
  {
   "cell_type": "code",
   "execution_count": 10,
   "id": "59e7582f-9a64-4b16-aaf6-e6310221b99c",
   "metadata": {},
   "outputs": [
    {
     "ename": "UnpicklingError",
     "evalue": "A load persistent id instruction was encountered,\nbut no persistent_load function was specified.",
     "output_type": "error",
     "traceback": [
      "\u001b[0;31m---------------------------------------------------------------------------\u001b[0m",
      "\u001b[0;31mUnpicklingError\u001b[0m                           Traceback (most recent call last)",
      "Cell \u001b[0;32mIn[10], line 2\u001b[0m\n\u001b[1;32m      1\u001b[0m \u001b[38;5;28;01mwith\u001b[39;00m \u001b[38;5;28mopen\u001b[39m(\u001b[38;5;124m'\u001b[39m\u001b[38;5;124mfocops_results/focops_group fairness_big_foot_half_cheetah_models_seed_1.pth\u001b[39m\u001b[38;5;124m'\u001b[39m, \u001b[38;5;124m'\u001b[39m\u001b[38;5;124mrb\u001b[39m\u001b[38;5;124m'\u001b[39m) \u001b[38;5;28;01mas\u001b[39;00m f:\n\u001b[0;32m----> 2\u001b[0m     models \u001b[38;5;241m=\u001b[39m \u001b[43mpickle\u001b[49m\u001b[38;5;241;43m.\u001b[39;49m\u001b[43mload\u001b[49m\u001b[43m(\u001b[49m\u001b[43mf\u001b[49m\u001b[43m)\u001b[49m\n",
      "\u001b[0;31mUnpicklingError\u001b[0m: A load persistent id instruction was encountered,\nbut no persistent_load function was specified."
     ]
    }
   ],
   "source": [
    "with open('focops_results/focops_group fairness_big_foot_half_cheetah_models_seed_1.pth', 'rb') as f:\n",
    "    models = pickle.load(f)"
   ]
  },
  {
   "cell_type": "code",
   "execution_count": 22,
   "id": "30d93ad1-23b6-489a-b486-752b59ff494d",
   "metadata": {},
   "outputs": [],
   "source": [
    "models = torch.load('focops_results/focops_group fairness_big_foot_half_cheetah_models_seed_1.pth')"
   ]
  },
  {
   "cell_type": "code",
   "execution_count": 24,
   "id": "dcd0a90d-b686-4c7e-ac54-8c918d428ea8",
   "metadata": {},
   "outputs": [
    {
     "data": {
      "text/plain": [
       "array([1, 2, 3])"
      ]
     },
     "execution_count": 24,
     "metadata": {},
     "output_type": "execute_result"
    }
   ],
   "source": [
    "np.sort([2,3, 1])"
   ]
  },
  {
   "cell_type": "code",
   "execution_count": 36,
   "id": "bd4d8413-0ba4-4d52-a54c-a77ce46a42ee",
   "metadata": {},
   "outputs": [],
   "source": [
    "from models import GaussianPolicy, Value"
   ]
  },
  {
   "cell_type": "code",
   "execution_count": 38,
   "id": "96b8cda0-5dcc-4fb4-81d2-7d711eefeae6",
   "metadata": {},
   "outputs": [],
   "source": [
    "v_list = []\n",
    "for _ in range(2):\n",
    "    v_list.append(Value(19))"
   ]
  },
  {
   "cell_type": "code",
   "execution_count": 42,
   "id": "1a183a38-4520-44ae-9fc9-ed8438f23795",
   "metadata": {},
   "outputs": [
    {
     "data": {
      "text/plain": [
       "Value(\n",
       "  (mlp_net): Sequential(\n",
       "    (0): Linear(in_features=19, out_features=64, bias=True)\n",
       "    (1): Tanh()\n",
       "    (2): Linear(in_features=64, out_features=64, bias=True)\n",
       "    (3): Tanh()\n",
       "  )\n",
       "  (v_head): Linear(in_features=64, out_features=1, bias=True)\n",
       ")"
      ]
     },
     "execution_count": 42,
     "metadata": {},
     "output_type": "execute_result"
    }
   ],
   "source": [
    "v_list[0] "
   ]
  },
  {
   "cell_type": "code",
   "execution_count": 43,
   "id": "cec9a5fa-cc06-40b5-9ea8-489e30de2e94",
   "metadata": {},
   "outputs": [
    {
     "data": {
      "text/plain": [
       "Value(\n",
       "  (mlp_net): Sequential(\n",
       "    (0): Linear(in_features=19, out_features=64, bias=True)\n",
       "    (1): Tanh()\n",
       "    (2): Linear(in_features=64, out_features=64, bias=True)\n",
       "    (3): Tanh()\n",
       "  )\n",
       "  (v_head): Linear(in_features=64, out_features=1, bias=True)\n",
       ")"
      ]
     },
     "execution_count": 43,
     "metadata": {},
     "output_type": "execute_result"
    }
   ],
   "source": [
    "v_list[1]"
   ]
  },
  {
   "cell_type": "code",
   "execution_count": null,
   "id": "4d2840ea-f7b7-4110-a976-6c792d147112",
   "metadata": {},
   "outputs": [],
   "source": []
  }
 ],
 "metadata": {
  "kernelspec": {
   "display_name": "Python 3 (ipykernel)",
   "language": "python",
   "name": "python3"
  },
  "language_info": {
   "codemirror_mode": {
    "name": "ipython",
    "version": 3
   },
   "file_extension": ".py",
   "mimetype": "text/x-python",
   "name": "python",
   "nbconvert_exporter": "python",
   "pygments_lexer": "ipython3",
   "version": "3.9.18"
  }
 },
 "nbformat": 4,
 "nbformat_minor": 5
}
