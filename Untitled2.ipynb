{
 "cells": [
  {
   "cell_type": "code",
   "execution_count": 1,
   "id": "a917e80a-bbbe-4696-a9f9-f7ced411f35f",
   "metadata": {},
   "outputs": [],
   "source": [
    "import numpy as np\n",
    "import pandas as pd\n",
    "\n"
   ]
  },
  {
   "cell_type": "code",
   "execution_count": 3,
   "id": "86d0d678-1f61-43ad-b882-d0c74393716e",
   "metadata": {},
   "outputs": [],
   "source": [
    "num_subgroups = 2"
   ]
  },
  {
   "cell_type": "code",
   "execution_count": 30,
   "id": "4206514e-995e-4449-bdf9-ee62e26be3b5",
   "metadata": {},
   "outputs": [
    {
     "data": {
      "text/plain": [
       "array([0, 1])"
      ]
     },
     "execution_count": 30,
     "metadata": {},
     "output_type": "execute_result"
    }
   ],
   "source": [
    "np.abs([0, 1])"
   ]
  },
  {
   "cell_type": "code",
   "execution_count": 2,
   "id": "fc74e691-309d-4d0f-b1f0-1acd1c0091b2",
   "metadata": {},
   "outputs": [
    {
     "ename": "NameError",
     "evalue": "name 'num_subgroups' is not defined",
     "output_type": "error",
     "traceback": [
      "\u001b[0;31m---------------------------------------------------------------------------\u001b[0m",
      "\u001b[0;31mNameError\u001b[0m                                 Traceback (most recent call last)",
      "Cell \u001b[0;32mIn[2], line 1\u001b[0m\n\u001b[0;32m----> 1\u001b[0m \u001b[38;5;28;01mfor\u001b[39;00m z1 \u001b[38;5;129;01min\u001b[39;00m \u001b[38;5;28mrange\u001b[39m(\u001b[43mnum_subgroups\u001b[49m):\n\u001b[1;32m      2\u001b[0m                         \u001b[38;5;28;01mif\u001b[39;00m z0 \u001b[38;5;241m==\u001b[39m z1:\n\u001b[1;32m      3\u001b[0m                             \u001b[38;5;28;01mcontinue\u001b[39;00m\n",
      "\u001b[0;31mNameError\u001b[0m: name 'num_subgroups' is not defined"
     ]
    }
   ],
   "source": [
    "for z0 in range(num_subgroups):\n",
    "    for z1 in range(num_subgroups):\n",
    "        if z0 == z1:\n",
    "            continue\n",
    "        return_diff.append(rollouts[z0][t]['avg_return'] - rollouts[z1][t]['avg_return'])\n",
    "        \n",
    "        other_group_return = rollouts[z1][t]['avg_return']\n",
    "        other_group_other_task_return = rollouts[z1][1-t]['avg_return']"
   ]
  },
  {
   "cell_type": "code",
   "execution_count": 23,
   "id": "036416ab-7469-4725-9bf8-1619a320fc28",
   "metadata": {},
   "outputs": [],
   "source": [
    "return_diff = []\n",
    "num_subgroups = num_tasks= 4\n",
    "\n",
    "rollouts = np.random.rand(num_subgroups,num_tasks)\n",
    "\n",
    "\n",
    "\n"
   ]
  },
  {
   "cell_type": "code",
   "execution_count": 27,
   "id": "fea3f141-820c-444a-9e90-d85a50b63b33",
   "metadata": {},
   "outputs": [],
   "source": [
    "for z0 in range(num_subgroups):\n",
    "    for t in range(num_tasks):\n",
    "        for z1 in range(num_subgroups):\n",
    "            if z0 == z1:\n",
    "                continue\n",
    "            return_diff.append(rollouts[z0][t] - rollouts[z1][t])\n",
    "\n",
    "            other_group_return_all_tasks = rollouts[z1][:]"
   ]
  },
  {
   "cell_type": "code",
   "execution_count": null,
   "id": "f5f53a19-3cb7-46e4-9ff1-e01eba22cd2a",
   "metadata": {},
   "outputs": [],
   "source": []
  },
  {
   "cell_type": "code",
   "execution_count": 24,
   "id": "9d5fa0f9-e304-424f-9bb1-6dbc102416b9",
   "metadata": {},
   "outputs": [
    {
     "data": {
      "text/plain": [
       "array([0.79988008, 0.92361844, 0.25298039, 0.54601578])"
      ]
     },
     "execution_count": 24,
     "metadata": {},
     "output_type": "execute_result"
    }
   ],
   "source": [
    "rollouts[z1]"
   ]
  },
  {
   "cell_type": "code",
   "execution_count": 12,
   "id": "fdd182ec-21fe-4ff8-b989-e28a88bbffc8",
   "metadata": {},
   "outputs": [
    {
     "data": {
      "text/plain": [
       "1"
      ]
     },
     "execution_count": 12,
     "metadata": {},
     "output_type": "execute_result"
    }
   ],
   "source": [
    "max(np.abs(return_diff))"
   ]
  },
  {
   "cell_type": "code",
   "execution_count": 13,
   "id": "cf36cc44-8dc2-460f-a78d-f13636562997",
   "metadata": {},
   "outputs": [
    {
     "ename": "NameError",
     "evalue": "name 'rollouts' is not defined",
     "output_type": "error",
     "traceback": [
      "\u001b[0;31m---------------------------------------------------------------------------\u001b[0m",
      "\u001b[0;31mNameError\u001b[0m                                 Traceback (most recent call last)",
      "Cell \u001b[0;32mIn[13], line 1\u001b[0m\n\u001b[0;32m----> 1\u001b[0m \u001b[43mrollouts\u001b[49m[z0][t][\u001b[38;5;124m'\u001b[39m\u001b[38;5;124mavg_return\u001b[39m\u001b[38;5;124m'\u001b[39m] \u001b[38;5;241m-\u001b[39m rollouts[z1][t][\u001b[38;5;124m'\u001b[39m\u001b[38;5;124mavg_return\u001b[39m\u001b[38;5;124m'\u001b[39m]\n",
      "\u001b[0;31mNameError\u001b[0m: name 'rollouts' is not defined"
     ]
    }
   ],
   "source": [
    "rollouts[z0][t]['avg_return'] - rollouts[z1][t]['avg_return']"
   ]
  },
  {
   "cell_type": "code",
   "execution_count": 14,
   "id": "d8bbf98a-a024-4502-b193-bb842d52101d",
   "metadata": {},
   "outputs": [],
   "source": [
    "# rollouts shape: (num_subgroup, num_task)"
   ]
  },
  {
   "cell_type": "code",
   "execution_count": 15,
   "id": "27296997-483b-4ad9-9127-f227606dd90a",
   "metadata": {},
   "outputs": [],
   "source": []
  },
  {
   "cell_type": "code",
   "execution_count": 16,
   "id": "45652c43-fa6e-4bbf-8111-975b8d232e65",
   "metadata": {},
   "outputs": [
    {
     "data": {
      "text/plain": [
       "array([[0.02927371, 0.35459519, 0.10968633, 0.34290209],\n",
       "       [0.20634566, 0.65192061, 0.01196671, 0.25830155],\n",
       "       [0.90470553, 0.44723634, 0.42617742, 0.03166785]])"
      ]
     },
     "execution_count": 16,
     "metadata": {},
     "output_type": "execute_result"
    }
   ],
   "source": []
  },
  {
   "cell_type": "code",
   "execution_count": 32,
   "id": "a65e2524-6a68-41be-a0d5-9459f4808ce9",
   "metadata": {},
   "outputs": [
    {
     "data": {
      "text/plain": [
       "'-3'"
      ]
     },
     "execution_count": 32,
     "metadata": {},
     "output_type": "execute_result"
    }
   ],
   "source": [
    "str()"
   ]
  },
  {
   "cell_type": "code",
   "execution_count": null,
   "id": "7210147a-6c49-475a-a0a7-46fb87c94d14",
   "metadata": {},
   "outputs": [],
   "source": []
  }
 ],
 "metadata": {
  "kernelspec": {
   "display_name": "Python 3 (ipykernel)",
   "language": "python",
   "name": "python3"
  },
  "language_info": {
   "codemirror_mode": {
    "name": "ipython",
    "version": 3
   },
   "file_extension": ".py",
   "mimetype": "text/x-python",
   "name": "python",
   "nbconvert_exporter": "python",
   "pygments_lexer": "ipython3",
   "version": "3.9.18"
  }
 },
 "nbformat": 4,
 "nbformat_minor": 5
}
