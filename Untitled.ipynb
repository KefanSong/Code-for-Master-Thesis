{
 "cells": [
  {
   "cell_type": "code",
   "execution_count": null,
   "id": "569a066b-f26c-4009-8e5e-a81ee8cecdf4",
   "metadata": {},
   "outputs": [],
   "source": [
    "import numpy as np\n",
    "import torch\n",
    "import pickle"
   ]
  },
  {
   "cell_type": "code",
   "execution_count": null,
   "id": "e0bb3186-7588-47f6-b012-eb6eb1ad39ce",
   "metadata": {},
   "outputs": [],
   "source": []
  },
  {
   "cell_type": "code",
   "execution_count": null,
   "id": "79287ead-10b1-4bb7-94b3-dd72ae2e7495",
   "metadata": {},
   "outputs": [],
   "source": [
    "a = [[2, 1, 3], [1, 2, 0]]"
   ]
  },
  {
   "cell_type": "code",
   "execution_count": null,
   "id": "a8cd6bdb-979a-446b-8b25-1f6a19683464",
   "metadata": {},
   "outputs": [],
   "source": [
    "b = [2, 1, 3, 0]"
   ]
  },
  {
   "cell_type": "code",
   "execution_count": null,
   "id": "27f7dd98-062b-447e-beae-bac1bb4067a8",
   "metadata": {},
   "outputs": [],
   "source": [
    "torch.tensor(a)"
   ]
  },
  {
   "cell_type": "code",
   "execution_count": null,
   "id": "7a3d13be-f026-4327-a08b-64bd8bf8eb0f",
   "metadata": {},
   "outputs": [],
   "source": [
    "np.shape(torch.tensor(a))"
   ]
  },
  {
   "cell_type": "code",
   "execution_count": 18,
   "id": "5236cc3d-da8a-4776-a5f8-d9ecfc209d08",
   "metadata": {},
   "outputs": [
    {
     "data": {
      "text/plain": [
       "torch.return_types.max(\n",
       "values=tensor([2, 2, 3]),\n",
       "indices=tensor([0, 1, 0]))"
      ]
     },
     "execution_count": 18,
     "metadata": {},
     "output_type": "execute_result"
    }
   ],
   "source": [
    "torch.max(torch.tensor(a), axis=0)"
   ]
  },
  {
   "cell_type": "code",
   "execution_count": 23,
   "id": "f763a021-0482-4f5c-9664-ecd54dd21de7",
   "metadata": {},
   "outputs": [
    {
     "data": {
      "text/plain": [
       "tensor(2)"
      ]
     },
     "execution_count": 23,
     "metadata": {},
     "output_type": "execute_result"
    }
   ],
   "source": [
    "torch.argmax(torch.tensor(b))"
   ]
  },
  {
   "cell_type": "code",
   "execution_count": 40,
   "id": "5352b442-a97b-491a-ba8e-77d3fff31e77",
   "metadata": {},
   "outputs": [],
   "source": [
    "with open('x.pkl', 'rb') as f:\n",
    "    q_values = pickle.load(f)"
   ]
  },
  {
   "cell_type": "code",
   "execution_count": 41,
   "id": "403786cf-8c9c-4ae8-8258-92b9483ae288",
   "metadata": {},
   "outputs": [
    {
     "data": {
      "text/plain": [
       "torch.Size([64])"
      ]
     },
     "execution_count": 41,
     "metadata": {},
     "output_type": "execute_result"
    }
   ],
   "source": [
    "np.shape(q_values)"
   ]
  },
  {
   "cell_type": "code",
   "execution_count": 42,
   "id": "4a19110d-6347-4e71-a23e-f4692bdd1ccb",
   "metadata": {},
   "outputs": [
    {
     "data": {
      "text/plain": [
       "tensor([ 1.5688, -6.5910, -1.0667,  1.1510,  2.3388, -0.2951, -2.0908,  1.6278,\n",
       "        -1.9939, -0.8018, -0.3756, -2.6624, -0.3271, -0.9380,  0.9938, -0.6569,\n",
       "        -2.5282,  2.6348, -1.9309,  1.1222, -0.4571,  1.1015, -0.0088,  5.1097,\n",
       "        -1.5109,  1.5340, -0.3305, -1.5948,  1.3264,  0.0164, -0.9399, -0.8253,\n",
       "         1.6932, -1.7627,  0.9988, -0.7561, -1.4530, -1.7285,  5.8658, -2.0212,\n",
       "        -0.2736, -1.0093,  7.7411,  2.3708,  0.4603,  0.0329, -0.1991,  0.7409,\n",
       "        -2.3331, -1.1794, -1.3610, -0.5626, -2.8930, -0.2411, -1.8140, -0.4838,\n",
       "         0.5190, -0.8248, -2.4412,  1.6214, -2.6672,  4.1839, -0.7971, -2.3388])"
      ]
     },
     "execution_count": 42,
     "metadata": {},
     "output_type": "execute_result"
    }
   ],
   "source": [
    "q_values"
   ]
  },
  {
   "cell_type": "code",
   "execution_count": 35,
   "id": "40ac28b6-a119-4274-b23d-796196035727",
   "metadata": {},
   "outputs": [
    {
     "data": {
      "text/plain": [
       "tensor([-28.6451, -29.3490, -25.4953, -27.8936], grad_fn=<SelectBackward0>)"
      ]
     },
     "execution_count": 35,
     "metadata": {},
     "output_type": "execute_result"
    }
   ],
   "source": [
    "q_values[2]"
   ]
  },
  {
   "cell_type": "code",
   "execution_count": 31,
   "id": "12b16740-910a-4801-bd18-48e206718237",
   "metadata": {},
   "outputs": [],
   "source": [
    "values, _ = torch.max(q_values, axis=1)"
   ]
  },
  {
   "cell_type": "code",
   "execution_count": 37,
   "id": "27d63916-fb0d-4d20-89d2-f4a49f1f916a",
   "metadata": {},
   "outputs": [
    {
     "data": {
      "text/plain": [
       "tensor(-25.4953, grad_fn=<SelectBackward0>)"
      ]
     },
     "execution_count": 37,
     "metadata": {},
     "output_type": "execute_result"
    }
   ],
   "source": [
    "values[2]"
   ]
  },
  {
   "cell_type": "code",
   "execution_count": null,
   "id": "0cbdb6f9-f99d-4a6b-a0f1-89a90f2ee39b",
   "metadata": {},
   "outputs": [],
   "source": []
  }
 ],
 "metadata": {
  "kernelspec": {
   "display_name": "Python 3 (ipykernel)",
   "language": "python",
   "name": "python3"
  },
  "language_info": {
   "codemirror_mode": {
    "name": "ipython",
    "version": 3
   },
   "file_extension": ".py",
   "mimetype": "text/x-python",
   "name": "python",
   "nbconvert_exporter": "python",
   "pygments_lexer": "ipython3",
   "version": "3.9.18"
  }
 },
 "nbformat": 4,
 "nbformat_minor": 5
}
