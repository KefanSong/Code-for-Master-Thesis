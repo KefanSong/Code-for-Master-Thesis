{
 "cells": [
  {
   "cell_type": "code",
   "execution_count": 4,
   "id": "dfd81c53-c684-4a01-964f-dec9f71d05fd",
   "metadata": {},
   "outputs": [],
   "source": [
    "from big_foot_half_cheetah_v4 import BigFootHalfCheetahEnv"
   ]
  },
  {
   "cell_type": "code",
   "execution_count": 12,
   "id": "f6415e09-8ae0-4245-93f2-ee1859ee1028",
   "metadata": {},
   "outputs": [],
   "source": [
    "import numpy as np\n",
    "import torch"
   ]
  },
  {
   "cell_type": "code",
   "execution_count": 3,
   "id": "11a64aee-b2d6-45ed-af5a-9013a0ca4420",
   "metadata": {},
   "outputs": [],
   "source": [
    "import gymnasium as gym\n",
    "import pickle"
   ]
  },
  {
   "cell_type": "code",
   "execution_count": 82,
   "id": "0638f101-7c3b-4edf-bc8f-2e142523f7f8",
   "metadata": {},
   "outputs": [],
   "source": [
    "with open('vars.pkl', 'rb') as file:\n",
    "    vars = pickle.load(file)"
   ]
  },
  {
   "cell_type": "code",
   "execution_count": 83,
   "id": "e6d0ac36-7dc0-4b71-9221-4c73004d9264",
   "metadata": {},
   "outputs": [],
   "source": [
    "vtarg_b = vars['vtarg_b']"
   ]
  },
  {
   "cell_type": "code",
   "execution_count": 85,
   "id": "89810b68-0055-40d4-a482-84eb8e652c30",
   "metadata": {},
   "outputs": [
    {
     "data": {
      "text/plain": [
       "torch.Size([64, 1])"
      ]
     },
     "execution_count": 85,
     "metadata": {},
     "output_type": "execute_result"
    }
   ],
   "source": [
    "np.shape(vtarg_b)"
   ]
  },
  {
   "cell_type": "code",
   "execution_count": 50,
   "id": "668cb95b-7ba7-4bb2-b1fa-b336c75b0eb6",
   "metadata": {},
   "outputs": [],
   "source": [
    "nu = vars['nu']\n",
    "cadv_b = vars['cadv_b']\n",
    "adv_b = vars['adv_b']"
   ]
  },
  {
   "cell_type": "code",
   "execution_count": 51,
   "id": "6879e9bc-9f90-49e0-9be6-52af631a1516",
   "metadata": {},
   "outputs": [],
   "source": [
    "term1 = adv_b - torch.sum(torch.tensor(nu.reshape(1, 2, 1)) * cadv_b, dim=1)"
   ]
  },
  {
   "cell_type": "code",
   "execution_count": 76,
   "id": "aac05ce6-9da6-4156-b86b-6fb27917220c",
   "metadata": {},
   "outputs": [
    {
     "data": {
      "text/plain": [
       "torch.Size([64, 1])"
      ]
     },
     "execution_count": 76,
     "metadata": {},
     "output_type": "execute_result"
    }
   ],
   "source": [
    "np.shape(adv_b)"
   ]
  },
  {
   "cell_type": "code",
   "execution_count": 81,
   "id": "ecd4aaed-dc33-4746-9f73-d0554b0e33c1",
   "metadata": {},
   "outputs": [
    {
     "name": "stdout",
     "output_type": "stream",
     "text": [
      "0\n",
      "1\n"
     ]
    }
   ],
   "source": [
    "for n in range(2):\n",
    "    print(n)"
   ]
  },
  {
   "cell_type": "code",
   "execution_count": 80,
   "id": "709049d7-6c70-4a55-9c20-73417201ffff",
   "metadata": {},
   "outputs": [
    {
     "data": {
      "text/plain": [
       "torch.Size([64, 1])"
      ]
     },
     "execution_count": 80,
     "metadata": {},
     "output_type": "execute_result"
    }
   ],
   "source": [
    "np.shape(cadv_b[:,1,:])"
   ]
  },
  {
   "cell_type": "code",
   "execution_count": 71,
   "id": "c64f4d6f-d7a7-4c15-bbcb-ae7d37577c59",
   "metadata": {},
   "outputs": [],
   "source": [
    "# torch.sum(torch.tensor(nu.reshape(1, 2, 1)) * cadv_b, dim=1)"
   ]
  },
  {
   "cell_type": "code",
   "execution_count": 65,
   "id": "305b3f05-9bc0-4933-a524-cdb6f0dac46b",
   "metadata": {},
   "outputs": [
    {
     "data": {
      "text/plain": [
       "tensor([[ 0.0546],\n",
       "        [ 0.3962],\n",
       "        [ 0.1839],\n",
       "        [-0.0452],\n",
       "        [ 0.2963],\n",
       "        [-0.1007],\n",
       "        [-0.4136],\n",
       "        [ 0.2025],\n",
       "        [ 0.0091],\n",
       "        [ 0.4221]], dtype=torch.float64)"
      ]
     },
     "execution_count": 65,
     "metadata": {},
     "output_type": "execute_result"
    }
   ],
   "source": [
    "term1[:10]"
   ]
  },
  {
   "cell_type": "code",
   "execution_count": 66,
   "id": "1caa6b4c-72a1-4998-94b9-bc10840dac9e",
   "metadata": {},
   "outputs": [
    {
     "data": {
      "text/plain": [
       "tensor([[ 0.2317],\n",
       "        [ 1.6802],\n",
       "        [ 0.7799],\n",
       "        [-0.1915],\n",
       "        [ 1.2567],\n",
       "        [-0.4272],\n",
       "        [-1.7540],\n",
       "        [ 0.8586],\n",
       "        [ 0.0385],\n",
       "        [ 1.7901]])"
      ]
     },
     "execution_count": 66,
     "metadata": {},
     "output_type": "execute_result"
    }
   ],
   "source": [
    "term2[:10]"
   ]
  },
  {
   "cell_type": "code",
   "execution_count": 72,
   "id": "30b254c9-5559-41a7-8988-4ba559fd0213",
   "metadata": {},
   "outputs": [],
   "source": [
    "term2 = adv_b*(1.0 - nu[0]+nu[1])"
   ]
  },
  {
   "cell_type": "code",
   "execution_count": 75,
   "id": "6bb2f6c2-a3e1-4c37-8d75-2d70fdabb7bd",
   "metadata": {},
   "outputs": [
    {
     "data": {
      "text/plain": [
       "tensor([[ 0.2317],\n",
       "        [ 1.6802],\n",
       "        [ 0.7799],\n",
       "        [-0.1915],\n",
       "        [ 1.2567],\n",
       "        [-0.4272],\n",
       "        [-1.7540],\n",
       "        [ 0.8586],\n",
       "        [ 0.0385],\n",
       "        [ 1.7901],\n",
       "        [-0.5631],\n",
       "        [-0.6467],\n",
       "        [ 1.9031],\n",
       "        [ 1.2388],\n",
       "        [ 2.3912],\n",
       "        [ 1.0211],\n",
       "        [ 2.4865],\n",
       "        [ 1.4696],\n",
       "        [ 0.6912],\n",
       "        [ 2.9839],\n",
       "        [-0.1535],\n",
       "        [-0.5535],\n",
       "        [ 0.5385],\n",
       "        [-0.1903],\n",
       "        [-0.6746],\n",
       "        [-4.8175],\n",
       "        [-0.8968],\n",
       "        [-2.1594],\n",
       "        [-0.9468],\n",
       "        [ 0.0898],\n",
       "        [ 2.5005],\n",
       "        [ 0.3011],\n",
       "        [ 0.0432],\n",
       "        [-0.7242],\n",
       "        [ 1.2058],\n",
       "        [ 1.2056],\n",
       "        [-0.2201],\n",
       "        [-0.0442],\n",
       "        [-2.5777],\n",
       "        [-0.4973],\n",
       "        [-0.7345],\n",
       "        [-0.6555],\n",
       "        [-0.4546],\n",
       "        [ 0.9714],\n",
       "        [ 3.6848],\n",
       "        [-2.7211],\n",
       "        [-1.5152],\n",
       "        [-0.3854],\n",
       "        [ 0.6981],\n",
       "        [ 0.6732],\n",
       "        [-0.5443],\n",
       "        [-1.6486],\n",
       "        [ 0.2394],\n",
       "        [ 0.0358],\n",
       "        [-0.2303],\n",
       "        [-1.2857],\n",
       "        [ 3.2075],\n",
       "        [-1.4146],\n",
       "        [ 0.0890],\n",
       "        [-2.6015],\n",
       "        [ 5.2306],\n",
       "        [ 0.7109],\n",
       "        [-0.4625],\n",
       "        [ 2.8043]])"
      ]
     },
     "execution_count": 75,
     "metadata": {},
     "output_type": "execute_result"
    }
   ],
   "source": [
    "adv_b + adv_b*nu[1]"
   ]
  },
  {
   "cell_type": "code",
   "execution_count": 53,
   "id": "0ae02d0c-0266-477d-a26c-14796a814f46",
   "metadata": {},
   "outputs": [
    {
     "ename": "RuntimeError",
     "evalue": "The size of tensor a (64) must match the size of tensor b (2) at non-singleton dimension 1",
     "output_type": "error",
     "traceback": [
      "\u001b[0;31m---------------------------------------------------------------------------\u001b[0m",
      "\u001b[0;31mRuntimeError\u001b[0m                              Traceback (most recent call last)",
      "Cell \u001b[0;32mIn[53], line 1\u001b[0m\n\u001b[0;32m----> 1\u001b[0m \u001b[43madv_b\u001b[49m\u001b[43m \u001b[49m\u001b[38;5;241;43m==\u001b[39;49m\u001b[43m \u001b[49m\u001b[43mcadv_b\u001b[49m\n",
      "\u001b[0;31mRuntimeError\u001b[0m: The size of tensor a (64) must match the size of tensor b (2) at non-singleton dimension 1"
     ]
    }
   ],
   "source": [
    "adv_b == cadv_b"
   ]
  },
  {
   "cell_type": "code",
   "execution_count": 63,
   "id": "ca7a7763-1c16-4916-9b60-13e1c36c27a8",
   "metadata": {},
   "outputs": [
    {
     "data": {
      "text/plain": [
       "tensor([[ 0.0885],\n",
       "        [ 0.6420],\n",
       "        [ 0.2980],\n",
       "        [-0.0732],\n",
       "        [ 0.4802],\n",
       "        [-0.1632],\n",
       "        [-0.6702],\n",
       "        [ 0.3281],\n",
       "        [ 0.0147],\n",
       "        [ 0.6840]])"
      ]
     },
     "execution_count": 63,
     "metadata": {},
     "output_type": "execute_result"
    }
   ],
   "source": [
    "nu[1]*adv_b[:10]"
   ]
  },
  {
   "cell_type": "code",
   "execution_count": 64,
   "id": "21a8f1e9-95c3-4c19-b370-aa4dc6548b73",
   "metadata": {},
   "outputs": [
    {
     "data": {
      "text/plain": [
       "tensor([[ 0.0885],\n",
       "        [ 0.6420],\n",
       "        [ 0.2980],\n",
       "        [-0.0732],\n",
       "        [ 0.4802],\n",
       "        [-0.1632],\n",
       "        [-0.6702],\n",
       "        [ 0.3281],\n",
       "        [ 0.0147],\n",
       "        [ 0.6840],\n",
       "        [-0.2151],\n",
       "        [-0.2471],\n",
       "        [ 0.7272],\n",
       "        [ 0.4733],\n",
       "        [ 0.9137],\n",
       "        [ 0.3902],\n",
       "        [ 0.9501],\n",
       "        [ 0.5615],\n",
       "        [ 0.2641],\n",
       "        [ 1.1401],\n",
       "        [-0.0587],\n",
       "        [-0.2115],\n",
       "        [ 0.2057],\n",
       "        [-0.0727],\n",
       "        [-0.2578],\n",
       "        [-1.8408],\n",
       "        [-0.3427],\n",
       "        [-0.8251],\n",
       "        [-0.3618],\n",
       "        [ 0.0343],\n",
       "        [ 0.9554],\n",
       "        [ 0.1151],\n",
       "        [ 0.0165],\n",
       "        [-0.2767],\n",
       "        [ 0.4607],\n",
       "        [ 0.4607],\n",
       "        [-0.0841],\n",
       "        [-0.0169],\n",
       "        [-0.9849],\n",
       "        [-0.1900],\n",
       "        [-0.2807],\n",
       "        [-0.2505],\n",
       "        [-0.1737],\n",
       "        [ 0.3712],\n",
       "        [ 1.4080],\n",
       "        [-1.0397],\n",
       "        [-0.5790],\n",
       "        [-0.1473],\n",
       "        [ 0.2667],\n",
       "        [ 0.2572],\n",
       "        [-0.2080],\n",
       "        [-0.6299],\n",
       "        [ 0.0915],\n",
       "        [ 0.0137],\n",
       "        [-0.0880],\n",
       "        [-0.4913],\n",
       "        [ 1.2256],\n",
       "        [-0.5405],\n",
       "        [ 0.0340],\n",
       "        [-0.9940],\n",
       "        [ 1.9986],\n",
       "        [ 0.2716],\n",
       "        [-0.1767],\n",
       "        [ 1.0715]], dtype=torch.float64)"
      ]
     },
     "execution_count": 64,
     "metadata": {},
     "output_type": "execute_result"
    }
   ],
   "source": [
    "torch.sum(torch.tensor(nu.reshape(1, 2, 1)) * cadv_b, dim=1)"
   ]
  },
  {
   "cell_type": "code",
   "execution_count": 57,
   "id": "67724149-26dc-4af7-915a-4ab5eed9bd19",
   "metadata": {},
   "outputs": [
    {
     "data": {
      "text/plain": [
       "tensor([[[0.0000],\n",
       "         [0.6184]]], dtype=torch.float64)"
      ]
     },
     "execution_count": 57,
     "metadata": {},
     "output_type": "execute_result"
    }
   ],
   "source": [
    "torch.tensor(nu.reshape(1, 2, 1))"
   ]
  },
  {
   "cell_type": "code",
   "execution_count": 58,
   "id": "370c1c4a-4703-4d84-a298-24720e2daace",
   "metadata": {},
   "outputs": [
    {
     "data": {
      "text/plain": [
       "array([0.        , 0.61837442])"
      ]
     },
     "execution_count": 58,
     "metadata": {},
     "output_type": "execute_result"
    }
   ],
   "source": [
    "nu"
   ]
  },
  {
   "cell_type": "code",
   "execution_count": 59,
   "id": "8b25a99a-cadc-4f94-9956-830f77c5af1e",
   "metadata": {},
   "outputs": [
    {
     "data": {
      "text/plain": [
       "array([0.        , 0.61837442])"
      ]
     },
     "execution_count": 59,
     "metadata": {},
     "output_type": "execute_result"
    }
   ],
   "source": [
    "nu"
   ]
  },
  {
   "cell_type": "code",
   "execution_count": null,
   "id": "8b94483f-663b-43f7-8756-98f1f0c202cd",
   "metadata": {},
   "outputs": [],
   "source": []
  },
  {
   "cell_type": "code",
   "execution_count": 14,
   "id": "2c584ffd-a0b2-444a-909d-09f1f66e5559",
   "metadata": {},
   "outputs": [],
   "source": [
    "env = gym.make('Humanoid-v4')"
   ]
  },
  {
   "cell_type": "code",
   "execution_count": 20,
   "id": "ef9ec67a-3503-4023-819a-e261bd7b5fb5",
   "metadata": {},
   "outputs": [],
   "source": [
    "env = BigFootHalfCheetahEnv()"
   ]
  },
  {
   "cell_type": "code",
   "execution_count": 106,
   "id": "269be655-28f6-4458-8163-9c3e6be37afd",
   "metadata": {},
   "outputs": [],
   "source": [
    "a = np.random.rand(1, 6).reshape(-1)"
   ]
  },
  {
   "cell_type": "code",
   "execution_count": 107,
   "id": "af596d8c-48e6-4a56-8f3f-d83f42b474a7",
   "metadata": {},
   "outputs": [],
   "source": [
    "# env.reset()"
   ]
  },
  {
   "cell_type": "code",
   "execution_count": 108,
   "id": "62fa2705-032c-4cd8-aeac-d5619dd235c2",
   "metadata": {},
   "outputs": [
    {
     "data": {
      "text/plain": [
       "(array([-0.17044884,  0.22712468,  0.10926172,  0.10938817,  0.30391259,\n",
       "         0.50838403,  0.57129582,  0.52521574, -0.68528533,  0.58337514,\n",
       "        -1.94226609, -0.07486179,  3.35979607, -2.82364363, -4.97983426,\n",
       "         7.44414661,  0.45405452]),\n",
       " -0.8266034599169518,\n",
       " False,\n",
       " False,\n",
       " {'x_position': 0.15081601630733993,\n",
       "  'x_velocity': -0.6318818072744414,\n",
       "  'reward_run': -0.6318818072744414,\n",
       "  'reward_ctrl': -0.19472165264251037})"
      ]
     },
     "execution_count": 108,
     "metadata": {},
     "output_type": "execute_result"
    }
   ],
   "source": [
    "env.step(a)"
   ]
  },
  {
   "cell_type": "code",
   "execution_count": 114,
   "id": "258bd826-51f8-477a-a901-c82f881f31ed",
   "metadata": {},
   "outputs": [
    {
     "name": "stdout",
     "output_type": "stream",
     "text": [
      "-0.42180212413573115\n",
      "-0.22708047149322078\n",
      "-0.20760830622896975\n"
     ]
    },
    {
     "data": {
      "text/plain": [
       "-1.2006887347057726"
      ]
     },
     "execution_count": 114,
     "metadata": {},
     "output_type": "execute_result"
    }
   ],
   "source": [
    "next_state, r, truncated, done, info = env.step(a)\n",
    "v = info['x_velocity']\n",
    "control_cost = info['reward_ctrl']\n",
    "print(r)\n",
    "print(v)\n",
    "print(v - 0.1* control_cost)\n",
    "v - 0.5 * np.abs(a**2).sum()"
   ]
  },
  {
   "cell_type": "code",
   "execution_count": 66,
   "id": "d0dceea3-f997-4b58-9c5e-6118268823d2",
   "metadata": {},
   "outputs": [
    {
     "data": {
      "text/plain": [
       "(array([-0.14357395,  0.06086305,  0.04582949,  0.47533767,  0.07564032,\n",
       "         0.48126026,  0.58497545,  0.51867392, -0.05242617, -0.00562408,\n",
       "        -0.05074139,  0.04845856,  0.0546532 ,  0.05760335,  0.01194562,\n",
       "         0.0035404 ,  0.00092345]),\n",
       " -0.36096146825913084,\n",
       " False,\n",
       " False,\n",
       " {'x_position': 0.05044451997443495,\n",
       "  'x_velocity': -0.08777628404439325,\n",
       "  'reward_run': -0.08777628404439325,\n",
       "  'reward_ctrl': -0.2731851842147376})"
      ]
     },
     "execution_count": 66,
     "metadata": {},
     "output_type": "execute_result"
    }
   ],
   "source": [
    "env.step(a)"
   ]
  },
  {
   "cell_type": "code",
   "execution_count": 57,
   "id": "b2ea872d-ff29-45a2-a459-3c11e06ccbdb",
   "metadata": {},
   "outputs": [
    {
     "data": {
      "text/plain": [
       "3.4627238883228415"
      ]
     },
     "execution_count": 57,
     "metadata": {},
     "output_type": "execute_result"
    }
   ],
   "source": [
    "np.abs(a).sum()"
   ]
  },
  {
   "cell_type": "code",
   "execution_count": 6,
   "id": "49aac412-3362-4d62-9c5b-61558c317223",
   "metadata": {},
   "outputs": [],
   "source": [
    "import os"
   ]
  },
  {
   "cell_type": "code",
   "execution_count": 7,
   "id": "2a6f1f72-e7c6-464e-9fd7-223fc81104d5",
   "metadata": {},
   "outputs": [
    {
     "ename": "NameError",
     "evalue": "name '__file__' is not defined",
     "output_type": "error",
     "traceback": [
      "\u001b[0;31m---------------------------------------------------------------------------\u001b[0m",
      "\u001b[0;31mNameError\u001b[0m                                 Traceback (most recent call last)",
      "Cell \u001b[0;32mIn[7], line 1\u001b[0m\n\u001b[0;32m----> 1\u001b[0m xml_path \u001b[38;5;241m=\u001b[39m os\u001b[38;5;241m.\u001b[39mpath\u001b[38;5;241m.\u001b[39mjoin(os\u001b[38;5;241m.\u001b[39mpath\u001b[38;5;241m.\u001b[39mdirname(os\u001b[38;5;241m.\u001b[39mpath\u001b[38;5;241m.\u001b[39mabspath(\u001b[38;5;18;43m__file__\u001b[39;49m)) \u001b[38;5;241m+\u001b[39m \u001b[38;5;124m\"\u001b[39m\u001b[38;5;124m/assets\u001b[39m\u001b[38;5;124m\"\u001b[39m, xml_file)\n",
      "\u001b[0;31mNameError\u001b[0m: name '__file__' is not defined"
     ]
    }
   ],
   "source": [
    "xml_path = os.path.join(os.path.dirname(os.path.abspath(__file__)) + \"/assets\", xml_file)"
   ]
  },
  {
   "cell_type": "code",
   "execution_count": 14,
   "id": "e590c905-a6db-439d-9761-4640a32fe51b",
   "metadata": {},
   "outputs": [],
   "source": [
    "import gymnasium as gym"
   ]
  },
  {
   "cell_type": "code",
   "execution_count": 18,
   "id": "64ee7e17-b895-4fa2-abe7-93170440c790",
   "metadata": {},
   "outputs": [],
   "source": [
    "# gym.register(id='BigFootHalfCheetah', entry_point='/Users/Kefan/Desktop/focops-main/big_foot_half_cheetah_v4.py')"
   ]
  },
  {
   "cell_type": "code",
   "execution_count": 21,
   "id": "93ce62b3-4c30-4b6d-8b00-32300291cf90",
   "metadata": {},
   "outputs": [],
   "source": [
    "# env = gym.make('BigFootHalfCheetah')"
   ]
  },
  {
   "cell_type": "code",
   "execution_count": 1,
   "id": "f3d31a14-8bd6-4a22-ad78-6aa2fe77ad68",
   "metadata": {},
   "outputs": [],
   "source": [
    "a = [[]]*2"
   ]
  },
  {
   "cell_type": "code",
   "execution_count": 4,
   "id": "89594d4a-52b9-46d0-9594-8ea271ca68da",
   "metadata": {},
   "outputs": [
    {
     "data": {
      "text/plain": [
       "(2, 1024, 1)"
      ]
     },
     "execution_count": 4,
     "metadata": {},
     "output_type": "execute_result"
    }
   ],
   "source": [
    "np.shape([np.zeros((1024, 1), dtype=np.float32)]*2)"
   ]
  },
  {
   "cell_type": "code",
   "execution_count": 3,
   "id": "89903d40-5f6f-4c35-8d47-59f19ede69b3",
   "metadata": {},
   "outputs": [
    {
     "data": {
      "text/plain": [
       "array([[0.],\n",
       "       [0.],\n",
       "       [0.],\n",
       "       [0.],\n",
       "       [0.],\n",
       "       [0.],\n",
       "       [0.],\n",
       "       [0.],\n",
       "       [0.],\n",
       "       [0.]], dtype=float32)"
      ]
     },
     "execution_count": 3,
     "metadata": {},
     "output_type": "execute_result"
    }
   ],
   "source": [
    "np.zeros((10, 1), dtype=np.float32)"
   ]
  },
  {
   "cell_type": "code",
   "execution_count": 4,
   "id": "79f98ba4-de53-4d21-9c69-bbae09fc08b9",
   "metadata": {},
   "outputs": [
    {
     "data": {
      "text/plain": [
       "(2, 8, 1)"
      ]
     },
     "execution_count": 4,
     "metadata": {},
     "output_type": "execute_result"
    }
   ],
   "source": [
    "batch_size = 8\n",
    "\n",
    "np.shape([np.zeros((batch_size, 1), dtype=np.float32)]*2)"
   ]
  },
  {
   "cell_type": "code",
   "execution_count": 5,
   "id": "109ceb2b-caf2-4a43-bc3c-c2a5996bf6c1",
   "metadata": {},
   "outputs": [],
   "source": [
    "b = np.zeros((batch_size, 2, 1))"
   ]
  },
  {
   "cell_type": "code",
   "execution_count": 40,
   "id": "622abf8a-e79a-4732-b068-6910f052bede",
   "metadata": {},
   "outputs": [],
   "source": [
    "cadv_eps = np.zeros((10,1))"
   ]
  },
  {
   "cell_type": "code",
   "execution_count": 41,
   "id": "e98867db-c9e8-4962-b40e-4070e413a311",
   "metadata": {},
   "outputs": [],
   "source": [
    "b = np.ones((10, 1))"
   ]
  },
  {
   "cell_type": "code",
   "execution_count": 42,
   "id": "7e03f7af-f5f0-4a15-a2ad-fd95f5daa76f",
   "metadata": {},
   "outputs": [],
   "source": [
    "a = np.stack((cadv_eps, b), axis=1)"
   ]
  },
  {
   "cell_type": "code",
   "execution_count": 64,
   "id": "0b0088b3-9646-4bca-af20-426b1647a4ec",
   "metadata": {},
   "outputs": [],
   "source": [
    "nu = np.array((1, -1))\n",
    "a = torch.tensor(a)"
   ]
  },
  {
   "cell_type": "code",
   "execution_count": 70,
   "id": "f84cf970-88fa-44b5-93f4-b2b9e77c43c7",
   "metadata": {},
   "outputs": [
    {
     "data": {
      "text/plain": [
       "torch.Size([10, 1])"
      ]
     },
     "execution_count": 70,
     "metadata": {},
     "output_type": "execute_result"
    }
   ],
   "source": [
    "np.shape(torch.sum(torch.tensor(nu.reshape(1, 2, 1)) * a, dim=1))"
   ]
  },
  {
   "cell_type": "code",
   "execution_count": 78,
   "id": "02e5bea6-f9eb-46a2-8bac-f416dec0cef6",
   "metadata": {},
   "outputs": [],
   "source": [
    "nu = np.array([0.1, 1])"
   ]
  },
  {
   "cell_type": "code",
   "execution_count": 79,
   "id": "27c0726e-57b8-4ffd-a488-77684beea724",
   "metadata": {},
   "outputs": [
    {
     "data": {
      "text/plain": [
       "array([0.1, 1. ])"
      ]
     },
     "execution_count": 79,
     "metadata": {},
     "output_type": "execute_result"
    }
   ],
   "source": [
    "np.clip(nu, a_min=0, a_max= 100)"
   ]
  },
  {
   "cell_type": "code",
   "execution_count": 39,
   "id": "1d4ca5ec-77cd-4479-8d28-1c178d5b1e6f",
   "metadata": {},
   "outputs": [
    {
     "data": {
      "text/plain": [
       "0.0"
      ]
     },
     "execution_count": 39,
     "metadata": {},
     "output_type": "execute_result"
    }
   ],
   "source": [
    "a.std(axis=0, keepdims=False)"
   ]
  },
  {
   "cell_type": "code",
   "execution_count": 58,
   "id": "346999e1-d637-41b4-a8fe-82d4c895a14a",
   "metadata": {},
   "outputs": [],
   "source": [
    "b = np.zeros((2))"
   ]
  },
  {
   "cell_type": "code",
   "execution_count": 59,
   "id": "88b8c271-9f48-49a2-b878-1d9d23d05c3d",
   "metadata": {},
   "outputs": [
    {
     "data": {
      "text/plain": [
       "array([0., 0.])"
      ]
     },
     "execution_count": 59,
     "metadata": {},
     "output_type": "execute_result"
    }
   ],
   "source": [
    "b"
   ]
  },
  {
   "cell_type": "code",
   "execution_count": 32,
   "id": "56e873b6-eeff-4d68-922f-d49a559fcefd",
   "metadata": {},
   "outputs": [
    {
     "data": {
      "text/plain": [
       "array([[[0.],\n",
       "        [1.]],\n",
       "\n",
       "       [[0.],\n",
       "        [1.]],\n",
       "\n",
       "       [[0.],\n",
       "        [1.]],\n",
       "\n",
       "       [[0.],\n",
       "        [1.]],\n",
       "\n",
       "       [[0.],\n",
       "        [1.]],\n",
       "\n",
       "       [[0.],\n",
       "        [1.]],\n",
       "\n",
       "       [[0.],\n",
       "        [1.]],\n",
       "\n",
       "       [[0.],\n",
       "        [1.]],\n",
       "\n",
       "       [[0.],\n",
       "        [1.]],\n",
       "\n",
       "       [[0.],\n",
       "        [1.]]])"
      ]
     },
     "execution_count": 32,
     "metadata": {},
     "output_type": "execute_result"
    }
   ],
   "source": [
    "a - a.std(axis=0, keepdims=True)"
   ]
  },
  {
   "cell_type": "code",
   "execution_count": 36,
   "id": "30d0bd20-cf24-4f39-a296-30b2ed535fbf",
   "metadata": {},
   "outputs": [],
   "source": [
    "a = np.array([1])\n",
    "b = np.array([-1])"
   ]
  },
  {
   "cell_type": "code",
   "execution_count": 37,
   "id": "241ce9fd-5d39-46e2-b061-f17e65691a1c",
   "metadata": {},
   "outputs": [
    {
     "data": {
      "text/plain": [
       "array([[ 1],\n",
       "       [-1]])"
      ]
     },
     "execution_count": 37,
     "metadata": {},
     "output_type": "execute_result"
    }
   ],
   "source": [
    "np.stack((a, b), axis=0)"
   ]
  },
  {
   "cell_type": "code",
   "execution_count": 8,
   "id": "64fc357c-01a3-4bbf-b0d5-af5f6819f7cb",
   "metadata": {},
   "outputs": [
    {
     "data": {
      "text/plain": [
       "array([[[0.],\n",
       "        [0.],\n",
       "        [0.],\n",
       "        [0.],\n",
       "        [0.],\n",
       "        [0.],\n",
       "        [0.],\n",
       "        [0.]],\n",
       "\n",
       "       [[0.],\n",
       "        [0.],\n",
       "        [0.],\n",
       "        [0.],\n",
       "        [0.],\n",
       "        [0.],\n",
       "        [0.],\n",
       "        [0.]]])"
      ]
     },
     "execution_count": 8,
     "metadata": {},
     "output_type": "execute_result"
    }
   ],
   "source": [
    "b.reshape(2, batch_size, 1)"
   ]
  },
  {
   "cell_type": "code",
   "execution_count": 4,
   "id": "ec29b7a6-5db5-4c57-ad5e-aeea79195d06",
   "metadata": {},
   "outputs": [
    {
     "data": {
      "text/plain": [
       "(8, 2, 1)"
      ]
     },
     "execution_count": 4,
     "metadata": {},
     "output_type": "execute_result"
    }
   ],
   "source": [
    "np.shape(np.zeros((batch_size, 2, 1)))"
   ]
  },
  {
   "cell_type": "code",
   "execution_count": null,
   "id": "57909e3a-2b1f-4695-b4c0-1fa6d3260382",
   "metadata": {},
   "outputs": [],
   "source": [
    "\n",
    "np.shape([np.zeros((batch_size, 1), dtype=np.float32)]*2)"
   ]
  },
  {
   "cell_type": "code",
   "execution_count": 13,
   "id": "e3b933a0-104b-4314-a906-8324837ae3cf",
   "metadata": {},
   "outputs": [],
   "source": [
    "cadv_eps = np.ones((1000, 1))"
   ]
  },
  {
   "cell_type": "code",
   "execution_count": 19,
   "id": "9dcfb7fb-fa2d-4c18-99d4-ee0f42539593",
   "metadata": {},
   "outputs": [],
   "source": [
    "cadv_buf = np.zeros((1000, 2, 1), dtype=np.float32)"
   ]
  },
  {
   "cell_type": "code",
   "execution_count": 25,
   "id": "afab7d42-47d7-49f6-9aba-89ac60a438e1",
   "metadata": {},
   "outputs": [],
   "source": [
    "cadv_buf[:,0,:] = cadv_eps"
   ]
  },
  {
   "cell_type": "code",
   "execution_count": null,
   "id": "7573417d-eae1-49b4-a211-a472702d5dbe",
   "metadata": {},
   "outputs": [],
   "source": []
  },
  {
   "cell_type": "code",
   "execution_count": null,
   "id": "c6bbeea4-6b2a-4172-a44f-bd685a0e42ab",
   "metadata": {},
   "outputs": [],
   "source": []
  }
 ],
 "metadata": {
  "kernelspec": {
   "display_name": "Python 3 (ipykernel)",
   "language": "python",
   "name": "python3"
  },
  "language_info": {
   "codemirror_mode": {
    "name": "ipython",
    "version": 3
   },
   "file_extension": ".py",
   "mimetype": "text/x-python",
   "name": "python",
   "nbconvert_exporter": "python",
   "pygments_lexer": "ipython3",
   "version": "3.9.18"
  }
 },
 "nbformat": 4,
 "nbformat_minor": 5
}
