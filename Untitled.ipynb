{
 "cells": [
  {
   "cell_type": "code",
   "execution_count": 1,
   "id": "dfd81c53-c684-4a01-964f-dec9f71d05fd",
   "metadata": {},
   "outputs": [],
   "source": [
    "from big_foot_half_cheetah_v4 import BigFootHalfCheetahEnv"
   ]
  },
  {
   "cell_type": "code",
   "execution_count": 62,
   "id": "f6415e09-8ae0-4245-93f2-ee1859ee1028",
   "metadata": {},
   "outputs": [],
   "source": [
    "import numpy as np\n",
    "import torch"
   ]
  },
  {
   "cell_type": "code",
   "execution_count": 10,
   "id": "ef9ec67a-3503-4023-819a-e261bd7b5fb5",
   "metadata": {},
   "outputs": [],
   "source": [
    "env = BigFootHalfCheetahEnv()"
   ]
  },
  {
   "cell_type": "code",
   "execution_count": 12,
   "id": "258bd826-51f8-477a-a901-c82f881f31ed",
   "metadata": {},
   "outputs": [
    {
     "ename": "AttributeError",
     "evalue": "'NoneType' object has no attribute 'id'",
     "output_type": "error",
     "traceback": [
      "\u001b[0;31m---------------------------------------------------------------------------\u001b[0m",
      "\u001b[0;31mAttributeError\u001b[0m                            Traceback (most recent call last)",
      "Cell \u001b[0;32mIn[12], line 1\u001b[0m\n\u001b[0;32m----> 1\u001b[0m \u001b[43menv\u001b[49m\u001b[38;5;241;43m.\u001b[39;49m\u001b[43mspec\u001b[49m\u001b[38;5;241;43m.\u001b[39;49m\u001b[43mid\u001b[49m\n",
      "\u001b[0;31mAttributeError\u001b[0m: 'NoneType' object has no attribute 'id'"
     ]
    }
   ],
   "source": [
    "env.spec.id"
   ]
  },
  {
   "cell_type": "code",
   "execution_count": 6,
   "id": "49aac412-3362-4d62-9c5b-61558c317223",
   "metadata": {},
   "outputs": [],
   "source": [
    "import os"
   ]
  },
  {
   "cell_type": "code",
   "execution_count": 7,
   "id": "2a6f1f72-e7c6-464e-9fd7-223fc81104d5",
   "metadata": {},
   "outputs": [
    {
     "ename": "NameError",
     "evalue": "name '__file__' is not defined",
     "output_type": "error",
     "traceback": [
      "\u001b[0;31m---------------------------------------------------------------------------\u001b[0m",
      "\u001b[0;31mNameError\u001b[0m                                 Traceback (most recent call last)",
      "Cell \u001b[0;32mIn[7], line 1\u001b[0m\n\u001b[0;32m----> 1\u001b[0m xml_path \u001b[38;5;241m=\u001b[39m os\u001b[38;5;241m.\u001b[39mpath\u001b[38;5;241m.\u001b[39mjoin(os\u001b[38;5;241m.\u001b[39mpath\u001b[38;5;241m.\u001b[39mdirname(os\u001b[38;5;241m.\u001b[39mpath\u001b[38;5;241m.\u001b[39mabspath(\u001b[38;5;18;43m__file__\u001b[39;49m)) \u001b[38;5;241m+\u001b[39m \u001b[38;5;124m\"\u001b[39m\u001b[38;5;124m/assets\u001b[39m\u001b[38;5;124m\"\u001b[39m, xml_file)\n",
      "\u001b[0;31mNameError\u001b[0m: name '__file__' is not defined"
     ]
    }
   ],
   "source": [
    "xml_path = os.path.join(os.path.dirname(os.path.abspath(__file__)) + \"/assets\", xml_file)"
   ]
  },
  {
   "cell_type": "code",
   "execution_count": 14,
   "id": "e590c905-a6db-439d-9761-4640a32fe51b",
   "metadata": {},
   "outputs": [],
   "source": [
    "import gymnasium as gym"
   ]
  },
  {
   "cell_type": "code",
   "execution_count": 18,
   "id": "64ee7e17-b895-4fa2-abe7-93170440c790",
   "metadata": {},
   "outputs": [],
   "source": [
    "# gym.register(id='BigFootHalfCheetah', entry_point='/Users/Kefan/Desktop/focops-main/big_foot_half_cheetah_v4.py')"
   ]
  },
  {
   "cell_type": "code",
   "execution_count": 21,
   "id": "93ce62b3-4c30-4b6d-8b00-32300291cf90",
   "metadata": {},
   "outputs": [],
   "source": [
    "# env = gym.make('BigFootHalfCheetah')"
   ]
  },
  {
   "cell_type": "code",
   "execution_count": 1,
   "id": "f3d31a14-8bd6-4a22-ad78-6aa2fe77ad68",
   "metadata": {},
   "outputs": [],
   "source": [
    "a = [[]]*2"
   ]
  },
  {
   "cell_type": "code",
   "execution_count": 4,
   "id": "89594d4a-52b9-46d0-9594-8ea271ca68da",
   "metadata": {},
   "outputs": [
    {
     "data": {
      "text/plain": [
       "(2, 1024, 1)"
      ]
     },
     "execution_count": 4,
     "metadata": {},
     "output_type": "execute_result"
    }
   ],
   "source": [
    "np.shape([np.zeros((1024, 1), dtype=np.float32)]*2)"
   ]
  },
  {
   "cell_type": "code",
   "execution_count": 3,
   "id": "89903d40-5f6f-4c35-8d47-59f19ede69b3",
   "metadata": {},
   "outputs": [
    {
     "data": {
      "text/plain": [
       "array([[0.],\n",
       "       [0.],\n",
       "       [0.],\n",
       "       [0.],\n",
       "       [0.],\n",
       "       [0.],\n",
       "       [0.],\n",
       "       [0.],\n",
       "       [0.],\n",
       "       [0.]], dtype=float32)"
      ]
     },
     "execution_count": 3,
     "metadata": {},
     "output_type": "execute_result"
    }
   ],
   "source": [
    "np.zeros((10, 1), dtype=np.float32)"
   ]
  },
  {
   "cell_type": "code",
   "execution_count": 4,
   "id": "79f98ba4-de53-4d21-9c69-bbae09fc08b9",
   "metadata": {},
   "outputs": [
    {
     "data": {
      "text/plain": [
       "(2, 8, 1)"
      ]
     },
     "execution_count": 4,
     "metadata": {},
     "output_type": "execute_result"
    }
   ],
   "source": [
    "batch_size = 8\n",
    "\n",
    "np.shape([np.zeros((batch_size, 1), dtype=np.float32)]*2)"
   ]
  },
  {
   "cell_type": "code",
   "execution_count": 5,
   "id": "109ceb2b-caf2-4a43-bc3c-c2a5996bf6c1",
   "metadata": {},
   "outputs": [],
   "source": [
    "b = np.zeros((batch_size, 2, 1))"
   ]
  },
  {
   "cell_type": "code",
   "execution_count": 40,
   "id": "622abf8a-e79a-4732-b068-6910f052bede",
   "metadata": {},
   "outputs": [],
   "source": [
    "cadv_eps = np.zeros((10,1))"
   ]
  },
  {
   "cell_type": "code",
   "execution_count": 41,
   "id": "e98867db-c9e8-4962-b40e-4070e413a311",
   "metadata": {},
   "outputs": [],
   "source": [
    "b = np.ones((10, 1))"
   ]
  },
  {
   "cell_type": "code",
   "execution_count": 42,
   "id": "7e03f7af-f5f0-4a15-a2ad-fd95f5daa76f",
   "metadata": {},
   "outputs": [],
   "source": [
    "a = np.stack((cadv_eps, b), axis=1)"
   ]
  },
  {
   "cell_type": "code",
   "execution_count": 64,
   "id": "0b0088b3-9646-4bca-af20-426b1647a4ec",
   "metadata": {},
   "outputs": [],
   "source": [
    "nu = np.array((1, -1))\n",
    "a = torch.tensor(a)"
   ]
  },
  {
   "cell_type": "code",
   "execution_count": 70,
   "id": "f84cf970-88fa-44b5-93f4-b2b9e77c43c7",
   "metadata": {},
   "outputs": [
    {
     "data": {
      "text/plain": [
       "torch.Size([10, 1])"
      ]
     },
     "execution_count": 70,
     "metadata": {},
     "output_type": "execute_result"
    }
   ],
   "source": [
    "np.shape(torch.sum(torch.tensor(nu.reshape(1, 2, 1)) * a, dim=1))"
   ]
  },
  {
   "cell_type": "code",
   "execution_count": 78,
   "id": "02e5bea6-f9eb-46a2-8bac-f416dec0cef6",
   "metadata": {},
   "outputs": [],
   "source": [
    "nu = np.array([0.1, 1])"
   ]
  },
  {
   "cell_type": "code",
   "execution_count": 79,
   "id": "27c0726e-57b8-4ffd-a488-77684beea724",
   "metadata": {},
   "outputs": [
    {
     "data": {
      "text/plain": [
       "array([0.1, 1. ])"
      ]
     },
     "execution_count": 79,
     "metadata": {},
     "output_type": "execute_result"
    }
   ],
   "source": [
    "np.clip(nu, a_min=0, a_max= 100)"
   ]
  },
  {
   "cell_type": "code",
   "execution_count": 39,
   "id": "1d4ca5ec-77cd-4479-8d28-1c178d5b1e6f",
   "metadata": {},
   "outputs": [
    {
     "data": {
      "text/plain": [
       "0.0"
      ]
     },
     "execution_count": 39,
     "metadata": {},
     "output_type": "execute_result"
    }
   ],
   "source": [
    "a.std(axis=0, keepdims=False)"
   ]
  },
  {
   "cell_type": "code",
   "execution_count": 58,
   "id": "346999e1-d637-41b4-a8fe-82d4c895a14a",
   "metadata": {},
   "outputs": [],
   "source": [
    "b = np.zeros((2))"
   ]
  },
  {
   "cell_type": "code",
   "execution_count": 59,
   "id": "88b8c271-9f48-49a2-b878-1d9d23d05c3d",
   "metadata": {},
   "outputs": [
    {
     "data": {
      "text/plain": [
       "array([0., 0.])"
      ]
     },
     "execution_count": 59,
     "metadata": {},
     "output_type": "execute_result"
    }
   ],
   "source": [
    "b"
   ]
  },
  {
   "cell_type": "code",
   "execution_count": 32,
   "id": "56e873b6-eeff-4d68-922f-d49a559fcefd",
   "metadata": {},
   "outputs": [
    {
     "data": {
      "text/plain": [
       "array([[[0.],\n",
       "        [1.]],\n",
       "\n",
       "       [[0.],\n",
       "        [1.]],\n",
       "\n",
       "       [[0.],\n",
       "        [1.]],\n",
       "\n",
       "       [[0.],\n",
       "        [1.]],\n",
       "\n",
       "       [[0.],\n",
       "        [1.]],\n",
       "\n",
       "       [[0.],\n",
       "        [1.]],\n",
       "\n",
       "       [[0.],\n",
       "        [1.]],\n",
       "\n",
       "       [[0.],\n",
       "        [1.]],\n",
       "\n",
       "       [[0.],\n",
       "        [1.]],\n",
       "\n",
       "       [[0.],\n",
       "        [1.]]])"
      ]
     },
     "execution_count": 32,
     "metadata": {},
     "output_type": "execute_result"
    }
   ],
   "source": [
    "a - a.std(axis=0, keepdims=True)"
   ]
  },
  {
   "cell_type": "code",
   "execution_count": 36,
   "id": "30d0bd20-cf24-4f39-a296-30b2ed535fbf",
   "metadata": {},
   "outputs": [],
   "source": [
    "a = np.array([1])\n",
    "b = np.array([-1])"
   ]
  },
  {
   "cell_type": "code",
   "execution_count": 37,
   "id": "241ce9fd-5d39-46e2-b061-f17e65691a1c",
   "metadata": {},
   "outputs": [
    {
     "data": {
      "text/plain": [
       "array([[ 1],\n",
       "       [-1]])"
      ]
     },
     "execution_count": 37,
     "metadata": {},
     "output_type": "execute_result"
    }
   ],
   "source": [
    "np.stack((a, b), axis=0)"
   ]
  },
  {
   "cell_type": "code",
   "execution_count": 8,
   "id": "64fc357c-01a3-4bbf-b0d5-af5f6819f7cb",
   "metadata": {},
   "outputs": [
    {
     "data": {
      "text/plain": [
       "array([[[0.],\n",
       "        [0.],\n",
       "        [0.],\n",
       "        [0.],\n",
       "        [0.],\n",
       "        [0.],\n",
       "        [0.],\n",
       "        [0.]],\n",
       "\n",
       "       [[0.],\n",
       "        [0.],\n",
       "        [0.],\n",
       "        [0.],\n",
       "        [0.],\n",
       "        [0.],\n",
       "        [0.],\n",
       "        [0.]]])"
      ]
     },
     "execution_count": 8,
     "metadata": {},
     "output_type": "execute_result"
    }
   ],
   "source": [
    "b.reshape(2, batch_size, 1)"
   ]
  },
  {
   "cell_type": "code",
   "execution_count": 4,
   "id": "ec29b7a6-5db5-4c57-ad5e-aeea79195d06",
   "metadata": {},
   "outputs": [
    {
     "data": {
      "text/plain": [
       "(8, 2, 1)"
      ]
     },
     "execution_count": 4,
     "metadata": {},
     "output_type": "execute_result"
    }
   ],
   "source": [
    "np.shape(np.zeros((batch_size, 2, 1)))"
   ]
  },
  {
   "cell_type": "code",
   "execution_count": null,
   "id": "57909e3a-2b1f-4695-b4c0-1fa6d3260382",
   "metadata": {},
   "outputs": [],
   "source": [
    "\n",
    "np.shape([np.zeros((batch_size, 1), dtype=np.float32)]*2)"
   ]
  },
  {
   "cell_type": "code",
   "execution_count": 13,
   "id": "e3b933a0-104b-4314-a906-8324837ae3cf",
   "metadata": {},
   "outputs": [],
   "source": [
    "cadv_eps = np.ones((1000, 1))"
   ]
  },
  {
   "cell_type": "code",
   "execution_count": 19,
   "id": "9dcfb7fb-fa2d-4c18-99d4-ee0f42539593",
   "metadata": {},
   "outputs": [],
   "source": [
    "cadv_buf = np.zeros((1000, 2, 1), dtype=np.float32)"
   ]
  },
  {
   "cell_type": "code",
   "execution_count": 25,
   "id": "afab7d42-47d7-49f6-9aba-89ac60a438e1",
   "metadata": {},
   "outputs": [],
   "source": [
    "cadv_buf[:,0,:] = cadv_eps"
   ]
  },
  {
   "cell_type": "code",
   "execution_count": null,
   "id": "7573417d-eae1-49b4-a211-a472702d5dbe",
   "metadata": {},
   "outputs": [],
   "source": []
  },
  {
   "cell_type": "code",
   "execution_count": null,
   "id": "c6bbeea4-6b2a-4172-a44f-bd685a0e42ab",
   "metadata": {},
   "outputs": [],
   "source": []
  }
 ],
 "metadata": {
  "kernelspec": {
   "display_name": "Python 3 (ipykernel)",
   "language": "python",
   "name": "python3"
  },
  "language_info": {
   "codemirror_mode": {
    "name": "ipython",
    "version": 3
   },
   "file_extension": ".py",
   "mimetype": "text/x-python",
   "name": "python",
   "nbconvert_exporter": "python",
   "pygments_lexer": "ipython3",
   "version": "3.9.18"
  }
 },
 "nbformat": 4,
 "nbformat_minor": 5
}
