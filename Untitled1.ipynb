{
 "cells": [
  {
   "cell_type": "code",
   "execution_count": 2,
   "id": "fda776f0-9014-413c-b99c-fc1e7486d7f6",
   "metadata": {},
   "outputs": [],
   "source": [
    "import argparse\n",
    "# import gym\n",
    "import gymnasium as gym\n",
    "import torch.nn as nn\n",
    "import time\n",
    "from data_generator_Copy1 import DataGenerator\n",
    "from models import GaussianPolicy, Value\n",
    "from environment import get_threshold\n",
    "from utils import *\n",
    "from collections import deque\n",
    "\n",
    "from big_foot_half_cheetah_v4 import BigFootHalfCheetahEnv\n",
    "from collections import deque\n",
    "from itertools import combinations\n",
    "import wandb\n",
    "import copy"
   ]
  },
  {
   "cell_type": "code",
   "execution_count": 2,
   "id": "5586247d-6a09-45b0-9513-112959d37848",
   "metadata": {},
   "outputs": [
    {
     "data": {
      "text/plain": [
       "[[], []]"
      ]
     },
     "execution_count": 2,
     "metadata": {},
     "output_type": "execute_result"
    }
   ],
   "source": [
    "[[]]*2"
   ]
  },
  {
   "cell_type": "code",
   "execution_count": 3,
   "id": "ce2f5fe8-59dc-4a72-9252-5cc334cfc3e4",
   "metadata": {},
   "outputs": [],
   "source": [
    "env = gym.make('HalfCheetah-v4')"
   ]
  },
  {
   "cell_type": "code",
   "execution_count": 10,
   "id": "347a6735-50a6-494d-ba4e-b7b8d34dd22b",
   "metadata": {},
   "outputs": [
    {
     "data": {
      "text/plain": [
       "(array([-7.64215806e-02,  6.04982809e-03, -4.84087852e-02,  2.88813417e-02,\n",
       "         2.25645353e-01,  2.45645517e-01,  1.79710723e-01,  2.23963940e-01,\n",
       "         8.49662651e-01, -2.10174483e-01,  1.52832639e-02, -1.43485011e+00,\n",
       "         2.34119675e+00,  7.36613157e+00,  7.19996694e+00,  7.03314505e+00,\n",
       "         5.35542145e+00]),\n",
       " -1.5959058032941658,\n",
       " False,\n",
       " False,\n",
       " {'x_position': 0.0030063680087884233,\n",
       "  'x_velocity': 0.5040941967058343,\n",
       "  'reward_run': 0.5040941967058343,\n",
       "  'reward_ctrl': -2.1})"
      ]
     },
     "execution_count": 10,
     "metadata": {},
     "output_type": "execute_result"
    }
   ],
   "source": [
    "env.reset()\n",
    "env.step([0,0,2,2,3,2])"
   ]
  },
  {
   "cell_type": "code",
   "execution_count": 66,
   "id": "714491a5-2b68-4a16-a1a0-ac073912c2e9",
   "metadata": {},
   "outputs": [],
   "source": [
    "class Agent:\n",
    "    def __init__(self):\n",
    "        self.policy = GaussianPolicy(64, 16, (64,64), nn.Tanh, -0.5)\n",
    "        self.policy.to(device)\n",
    "        # self.policy = 1"
   ]
  },
  {
   "cell_type": "code",
   "execution_count": 67,
   "id": "55025342-a6d1-4f21-8853-78be4386718e",
   "metadata": {},
   "outputs": [],
   "source": [
    "agent1 = Agent()\n",
    "agent2 = Agent()"
   ]
  },
  {
   "cell_type": "code",
   "execution_count": 68,
   "id": "225bc955-cbf5-4eaa-b72b-e5520d8d8c2b",
   "metadata": {},
   "outputs": [],
   "source": [
    "agent1.policy = 1"
   ]
  },
  {
   "cell_type": "code",
   "execution_count": 69,
   "id": "1b8b8bc1-4081-41b9-af27-24fd6f12bd2e",
   "metadata": {},
   "outputs": [],
   "source": [
    "agent2.policy = agent1.policy"
   ]
  },
  {
   "cell_type": "code",
   "execution_count": 70,
   "id": "446b76fc-c0c6-4801-839d-836644f542e6",
   "metadata": {},
   "outputs": [
    {
     "data": {
      "text/plain": [
       "4302973232"
      ]
     },
     "execution_count": 70,
     "metadata": {},
     "output_type": "execute_result"
    }
   ],
   "source": [
    "id(agent2.policy)"
   ]
  },
  {
   "cell_type": "code",
   "execution_count": 71,
   "id": "aa0489c6-4ebc-4349-8067-56b8ddb6f295",
   "metadata": {},
   "outputs": [
    {
     "data": {
      "text/plain": [
       "4302973232"
      ]
     },
     "execution_count": 71,
     "metadata": {},
     "output_type": "execute_result"
    }
   ],
   "source": [
    "id(agent1.policy)"
   ]
  },
  {
   "cell_type": "code",
   "execution_count": 76,
   "id": "d387af01-f630-4901-9945-fdae46a453fa",
   "metadata": {},
   "outputs": [],
   "source": [
    "agents = []\n",
    "for z in range(2):\n",
    "    # TO-DO: Need another loop for environments\n",
    "    \n",
    "    agents_tasks=[]\n",
    "    for t in range(2):\n",
    "        # env = envs[z][t]\n",
    "        # envname = envnames[z]\n",
    "        # print('envname',envname)\n",
    "        agent = Agent()\n",
    "        # TO-DO: Assign the same policy of the agents from same group; perhaps in a different loop.\n",
    "        agents_tasks.append(agent)\n",
    "    agents.append(agents_tasks)\n",
    "\n",
    "for z in range(2):\n",
    "    agents[z][1].policy = copy.copy(agents[z][0].policy).to(device)"
   ]
  },
  {
   "cell_type": "code",
   "execution_count": 77,
   "id": "2e677a24-089a-4487-85ac-f34a2a7933fe",
   "metadata": {},
   "outputs": [
    {
     "data": {
      "text/plain": [
       "6016026320"
      ]
     },
     "execution_count": 77,
     "metadata": {},
     "output_type": "execute_result"
    }
   ],
   "source": [
    "id(agents[z][1].policy)"
   ]
  },
  {
   "cell_type": "code",
   "execution_count": 78,
   "id": "3c07cdb2-01e3-47f4-a162-22b4bebaeb2d",
   "metadata": {},
   "outputs": [
    {
     "data": {
      "text/plain": [
       "6016025216"
      ]
     },
     "execution_count": 78,
     "metadata": {},
     "output_type": "execute_result"
    }
   ],
   "source": [
    "id(agents[z][0].policy)"
   ]
  },
  {
   "cell_type": "code",
   "execution_count": 75,
   "id": "3ef1ef33-47a7-42a9-a883-1f5f5eaf3a7b",
   "metadata": {},
   "outputs": [
    {
     "data": {
      "text/plain": [
       "GaussianPolicy(\n",
       "  (mlp_net): Sequential(\n",
       "    (0): Linear(in_features=64, out_features=64, bias=True)\n",
       "    (1): Tanh()\n",
       "    (2): Linear(in_features=64, out_features=64, bias=True)\n",
       "    (3): Tanh()\n",
       "  )\n",
       "  (mean_layer): Linear(in_features=64, out_features=16, bias=True)\n",
       "  (mean_layer2): Linear(in_features=64, out_features=16, bias=True)\n",
       ")"
      ]
     },
     "execution_count": 75,
     "metadata": {},
     "output_type": "execute_result"
    }
   ],
   "source": [
    "device = torch.device('cuda') if torch.cuda.is_available() else torch.device('cpu')\n",
    "agents[z][0].policy.to(device)"
   ]
  },
  {
   "cell_type": "code",
   "execution_count": null,
   "id": "2eb87d80-78ca-4ae9-aca5-05a9d3e7d9aa",
   "metadata": {},
   "outputs": [],
   "source": []
  }
 ],
 "metadata": {
  "kernelspec": {
   "display_name": "Python 3 (ipykernel)",
   "language": "python",
   "name": "python3"
  },
  "language_info": {
   "codemirror_mode": {
    "name": "ipython",
    "version": 3
   },
   "file_extension": ".py",
   "mimetype": "text/x-python",
   "name": "python",
   "nbconvert_exporter": "python",
   "pygments_lexer": "ipython3",
   "version": "3.9.18"
  }
 },
 "nbformat": 4,
 "nbformat_minor": 5
}
