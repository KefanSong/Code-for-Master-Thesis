{
 "cells": [
  {
   "cell_type": "code",
   "execution_count": 1,
   "id": "b9fe44ac-0ff7-4b4b-9e1f-5ceee33a73aa",
   "metadata": {},
   "outputs": [],
   "source": [
    "task_id = 2\n",
    "\n",
    "idx_list = []\n",
    "for idx in range(4):\n",
    "    if idx != task_id:\n",
    "        idx_list.append(idx)"
   ]
  },
  {
   "cell_type": "code",
   "execution_count": 2,
   "id": "058574a6-bcf2-4cf3-b9c4-6fc1da1fdd19",
   "metadata": {},
   "outputs": [
    {
     "data": {
      "text/plain": [
       "[0, 1, 3]"
      ]
     },
     "execution_count": 2,
     "metadata": {},
     "output_type": "execute_result"
    }
   ],
   "source": [
    "idx_list"
   ]
  },
  {
   "cell_type": "code",
   "execution_count": 3,
   "id": "3532a863-0dba-4541-a879-53a4786735b5",
   "metadata": {},
   "outputs": [],
   "source": [
    "idx_list = [idx for idx in range(4) if idx != task_id]"
   ]
  },
  {
   "cell_type": "code",
   "execution_count": 4,
   "id": "eb0aeb65-b6b6-4e4b-912b-a89218b71015",
   "metadata": {},
   "outputs": [
    {
     "data": {
      "text/plain": [
       "[0, 1, 3]"
      ]
     },
     "execution_count": 4,
     "metadata": {},
     "output_type": "execute_result"
    }
   ],
   "source": [
    "idx_list"
   ]
  },
  {
   "cell_type": "code",
   "execution_count": 5,
   "id": "2e6397fe-0f35-48ae-91dc-548322264351",
   "metadata": {},
   "outputs": [
    {
     "name": "stdout",
     "output_type": "stream",
     "text": [
      "0\n"
     ]
    }
   ],
   "source": [
    "for z in range(2 - 1):\n",
    "    print(z)"
   ]
  },
  {
   "cell_type": "code",
   "execution_count": null,
   "id": "475f9269-3fa9-4872-a7ab-b863abe79ee1",
   "metadata": {},
   "outputs": [],
   "source": []
  }
 ],
 "metadata": {
  "kernelspec": {
   "display_name": "Python 3 (ipykernel)",
   "language": "python",
   "name": "python3"
  },
  "language_info": {
   "codemirror_mode": {
    "name": "ipython",
    "version": 3
   },
   "file_extension": ".py",
   "mimetype": "text/x-python",
   "name": "python",
   "nbconvert_exporter": "python",
   "pygments_lexer": "ipython3",
   "version": "3.9.18"
  }
 },
 "nbformat": 4,
 "nbformat_minor": 5
}
